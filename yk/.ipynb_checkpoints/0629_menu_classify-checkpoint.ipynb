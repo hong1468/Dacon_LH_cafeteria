{
 "cells": [
  {
   "cell_type": "code",
   "execution_count": 1,
   "metadata": {},
   "outputs": [],
   "source": [
    "import pandas as pd"
   ]
  },
  {
   "cell_type": "code",
   "execution_count": 5,
   "metadata": {},
   "outputs": [],
   "source": [
    "menu = pd.read_csv(\"data/대표식품 목록 및 분류(2019.03.05)..csv\",encoding=\"cp949\")"
   ]
  },
  {
   "cell_type": "code",
   "execution_count": 6,
   "metadata": {},
   "outputs": [],
   "source": [
    "menu.to_csv(\"data/한국식품연구원_식품분류.csv\",encoding=\"utf-8-sig\")"
   ]
  },
  {
   "cell_type": "code",
   "execution_count": 13,
   "metadata": {},
   "outputs": [
    {
     "data": {
      "text/plain": [
       "21"
      ]
     },
     "execution_count": 13,
     "metadata": {},
     "output_type": "execute_result"
    }
   ],
   "source": [
    "len(menu['식품분류(중)'].unique())"
   ]
  },
  {
   "cell_type": "code",
   "execution_count": 14,
   "metadata": {},
   "outputs": [
    {
     "data": {
      "text/plain": [
       "array(['구이류', '국류', '회류', '양념류', '밥류', '기타', '젓갈류', '찜류', '전골류', '김치',\n",
       "       '나물류', '장류', '장아찌류', '떡류', '면류', '한과류', '죽류', '양조곡주', '음청류', '보관법',\n",
       "       '증류주'], dtype=object)"
      ]
     },
     "execution_count": 14,
     "metadata": {},
     "output_type": "execute_result"
    }
   ],
   "source": [
    "menu['식품분류(중)'].unique()"
   ]
  },
  {
   "cell_type": "code",
   "execution_count": 11,
   "metadata": {},
   "outputs": [
    {
     "data": {
      "text/plain": [
       "71"
      ]
     },
     "execution_count": 11,
     "metadata": {},
     "output_type": "execute_result"
    }
   ],
   "source": [
    "len(menu['식품분류(소)'].unique())"
   ]
  },
  {
   "cell_type": "code",
   "execution_count": 12,
   "metadata": {},
   "outputs": [
    {
     "data": {
      "text/plain": [
       "array(['전', '토장국', '생회', '양념류', '기타', '발효젓', '조림', '찌개', '맑은장국', '야채김치',\n",
       "       '숙채', '구이', '선', '장아찌', '찜', '볶음', '간장', '전유어', '찐떡', '국수', '흰밥',\n",
       "       '다식', '응이', '탕류', '죽', '고명류', '정과', '유밀과', '만두', '순곡주류', '생채',\n",
       "       '다류', '된장', '유과', '혼양곡주류', '식해', '친떡', nan, '초회', '적', '음료류',\n",
       "       '지진떡', '삶은떡', '약용증류주', '전골', '초', '숙회', '고추장', '배추김치', '무김치', '곰국',\n",
       "       '즙', '순곡증류주', '화채', '부각', '냉면', '수제비', '편육', '냉채', '묵', '미음',\n",
       "       '엿강정', '과일김치', '떡국', '냉국', '비빔밥', '숙란', '암죽', '잡곡밥', '청국장', '범벅'],\n",
       "      dtype=object)"
      ]
     },
     "execution_count": 12,
     "metadata": {},
     "output_type": "execute_result"
    }
   ],
   "source": [
    "menu['식품분류(소)'].unique()"
   ]
  },
  {
   "cell_type": "code",
   "execution_count": null,
   "metadata": {},
   "outputs": [],
   "source": []
  }
 ],
 "metadata": {
  "kernelspec": {
   "display_name": "Python 3",
   "language": "python",
   "name": "python3"
  },
  "language_info": {
   "codemirror_mode": {
    "name": "ipython",
    "version": 3
   },
   "file_extension": ".py",
   "mimetype": "text/x-python",
   "name": "python",
   "nbconvert_exporter": "python",
   "pygments_lexer": "ipython3",
   "version": "3.7.4"
  }
 },
 "nbformat": 4,
 "nbformat_minor": 2
}
