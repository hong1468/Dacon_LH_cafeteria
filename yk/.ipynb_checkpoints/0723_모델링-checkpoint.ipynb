{
 "cells": [
  {
   "cell_type": "code",
   "execution_count": 7,
   "metadata": {},
   "outputs": [],
   "source": [
    "import pandas as pd\n",
    "from sklearn.metrics import mean_absolute_error\n",
    "from sklearn.model_selection import train_test_split\n",
    "from xgboost import XGBRegressor\n",
    "from lightgbm import LGBMRegressor"
   ]
  },
  {
   "cell_type": "code",
   "execution_count": 5,
   "metadata": {},
   "outputs": [],
   "source": [
    "train_lunch_final = pd.read_csv('train_lunch_final.csv', encoding=\"utf-8-sig\")\n",
    "test_lunch_final = pd.read_csv('test_lunch_final.csv', encoding=\"utf-8-sig\")\n",
    "train_dinner_final = pd.read_csv('train_dinner_final.csv', encoding=\"utf-8-sig\")\n",
    "test_dinner_final = pd.read_csv('test_dinner_final.csv', encoding=\"utf-8-sig\")"
   ]
  },
  {
   "cell_type": "code",
   "execution_count": 9,
   "metadata": {},
   "outputs": [],
   "source": [
    "y1_train = train['중식계']\n",
    "y2_train = train['석식계']"
   ]
  },
  {
   "cell_type": "code",
   "execution_count": 10,
   "metadata": {},
   "outputs": [],
   "source": [
    "#y1_train 중식계\n",
    "x_train_lunch, x_test_lunch, y_train_lunch, y_test_lunch = train_test_split(train_lunch_final,y1_train,test_size=0.3,random_state=1234)"
   ]
  },
  {
   "cell_type": "code",
   "execution_count": 11,
   "metadata": {},
   "outputs": [],
   "source": [
    "from sklearn.model_selection import GridSearchCV\n",
    "import numpy as np\n",
    "\n",
    "def get_best_params(model, params):\n",
    "    grid_model = GridSearchCV(model, param_grid=params, scoring='neg_mean_absolute_error', cv=5)\n",
    "    grid_model.fit(train_lunch_final, y1_train)\n",
    "    mae = abs(-1* grid_model.best_score_)\n",
    "    print('최적 MAE 값:', np.round(mae, 4))\n",
    "    print('최적 파라미터:', grid_model.best_params_)\n",
    "    \n",
    "    return grid_model.best_estimator_"
   ]
  },
  {
   "cell_type": "code",
   "execution_count": null,
   "metadata": {},
   "outputs": [],
   "source": []
  }
 ],
 "metadata": {
  "kernelspec": {
   "display_name": "Python 3",
   "language": "python",
   "name": "python3"
  },
  "language_info": {
   "codemirror_mode": {
    "name": "ipython",
    "version": 3
   },
   "file_extension": ".py",
   "mimetype": "text/x-python",
   "name": "python",
   "nbconvert_exporter": "python",
   "pygments_lexer": "ipython3",
   "version": "3.7.4"
  }
 },
 "nbformat": 4,
 "nbformat_minor": 2
}
