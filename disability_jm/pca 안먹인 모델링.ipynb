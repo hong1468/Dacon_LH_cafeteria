{
 "cells": [
  {
   "cell_type": "code",
   "execution_count": 1,
   "metadata": {},
   "outputs": [],
   "source": [
    "import pandas as pd"
   ]
  },
  {
   "cell_type": "code",
   "execution_count": 2,
   "metadata": {},
   "outputs": [],
   "source": [
    "train=pd.read_csv('datasets/train_join_v3.csv')\n",
    "test=pd.read_csv('datasets/test_join_v3.csv')"
   ]
  },
  {
   "cell_type": "code",
   "execution_count": 3,
   "metadata": {},
   "outputs": [],
   "source": [
    "train.drop(['Unnamed: 0','Unnamed: 0.1'],axis=1,inplace=True)\n",
    "test.drop(['Unnamed: 0','Unnamed: 0.1'],axis=1,inplace=True)"
   ]
  },
  {
   "cell_type": "code",
   "execution_count": 4,
   "metadata": {},
   "outputs": [],
   "source": [
    "df=pd.read_csv('datasets/휴일_비_테스트포함_train.csv')"
   ]
  },
  {
   "cell_type": "code",
   "execution_count": 5,
   "metadata": {},
   "outputs": [
    {
     "data": {
      "text/html": [
       "<div>\n",
       "<style scoped>\n",
       "    .dataframe tbody tr th:only-of-type {\n",
       "        vertical-align: middle;\n",
       "    }\n",
       "\n",
       "    .dataframe tbody tr th {\n",
       "        vertical-align: top;\n",
       "    }\n",
       "\n",
       "    .dataframe thead th {\n",
       "        text-align: right;\n",
       "    }\n",
       "</style>\n",
       "<table border=\"1\" class=\"dataframe\">\n",
       "  <thead>\n",
       "    <tr style=\"text-align: right;\">\n",
       "      <th></th>\n",
       "      <th>일자</th>\n",
       "      <th>휴일전날</th>\n",
       "      <th>점심비</th>\n",
       "      <th>저녁비</th>\n",
       "    </tr>\n",
       "  </thead>\n",
       "  <tbody>\n",
       "    <tr>\n",
       "      <th>0</th>\n",
       "      <td>2016-02-01</td>\n",
       "      <td>평일</td>\n",
       "      <td>0.0</td>\n",
       "      <td>0.0</td>\n",
       "    </tr>\n",
       "    <tr>\n",
       "      <th>1</th>\n",
       "      <td>2016-02-02</td>\n",
       "      <td>평일</td>\n",
       "      <td>0.0</td>\n",
       "      <td>0.0</td>\n",
       "    </tr>\n",
       "    <tr>\n",
       "      <th>2</th>\n",
       "      <td>2016-02-03</td>\n",
       "      <td>평일</td>\n",
       "      <td>0.0</td>\n",
       "      <td>0.0</td>\n",
       "    </tr>\n",
       "    <tr>\n",
       "      <th>3</th>\n",
       "      <td>2016-02-04</td>\n",
       "      <td>평일</td>\n",
       "      <td>0.0</td>\n",
       "      <td>0.0</td>\n",
       "    </tr>\n",
       "    <tr>\n",
       "      <th>4</th>\n",
       "      <td>2016-02-05</td>\n",
       "      <td>휴일전날</td>\n",
       "      <td>0.0</td>\n",
       "      <td>0.0</td>\n",
       "    </tr>\n",
       "    <tr>\n",
       "      <th>5</th>\n",
       "      <td>2016-02-11</td>\n",
       "      <td>평일</td>\n",
       "      <td>0.0</td>\n",
       "      <td>0.0</td>\n",
       "    </tr>\n",
       "    <tr>\n",
       "      <th>6</th>\n",
       "      <td>2016-02-12</td>\n",
       "      <td>휴일전날</td>\n",
       "      <td>9.4</td>\n",
       "      <td>20.4</td>\n",
       "    </tr>\n",
       "    <tr>\n",
       "      <th>7</th>\n",
       "      <td>2016-02-15</td>\n",
       "      <td>평일</td>\n",
       "      <td>0.0</td>\n",
       "      <td>0.0</td>\n",
       "    </tr>\n",
       "    <tr>\n",
       "      <th>8</th>\n",
       "      <td>2016-02-16</td>\n",
       "      <td>평일</td>\n",
       "      <td>0.0</td>\n",
       "      <td>0.0</td>\n",
       "    </tr>\n",
       "    <tr>\n",
       "      <th>9</th>\n",
       "      <td>2016-02-17</td>\n",
       "      <td>평일</td>\n",
       "      <td>0.0</td>\n",
       "      <td>0.0</td>\n",
       "    </tr>\n",
       "    <tr>\n",
       "      <th>10</th>\n",
       "      <td>2016-02-18</td>\n",
       "      <td>평일</td>\n",
       "      <td>0.0</td>\n",
       "      <td>0.0</td>\n",
       "    </tr>\n",
       "    <tr>\n",
       "      <th>11</th>\n",
       "      <td>2016-02-19</td>\n",
       "      <td>휴일전날</td>\n",
       "      <td>0.0</td>\n",
       "      <td>0.0</td>\n",
       "    </tr>\n",
       "    <tr>\n",
       "      <th>12</th>\n",
       "      <td>2016-02-22</td>\n",
       "      <td>평일</td>\n",
       "      <td>0.0</td>\n",
       "      <td>0.0</td>\n",
       "    </tr>\n",
       "    <tr>\n",
       "      <th>13</th>\n",
       "      <td>2016-02-23</td>\n",
       "      <td>평일</td>\n",
       "      <td>0.0</td>\n",
       "      <td>0.0</td>\n",
       "    </tr>\n",
       "    <tr>\n",
       "      <th>14</th>\n",
       "      <td>2016-02-24</td>\n",
       "      <td>평일</td>\n",
       "      <td>0.0</td>\n",
       "      <td>0.0</td>\n",
       "    </tr>\n",
       "    <tr>\n",
       "      <th>15</th>\n",
       "      <td>2016-02-25</td>\n",
       "      <td>평일</td>\n",
       "      <td>0.0</td>\n",
       "      <td>0.0</td>\n",
       "    </tr>\n",
       "    <tr>\n",
       "      <th>16</th>\n",
       "      <td>2016-02-26</td>\n",
       "      <td>휴일전날</td>\n",
       "      <td>0.0</td>\n",
       "      <td>0.0</td>\n",
       "    </tr>\n",
       "    <tr>\n",
       "      <th>17</th>\n",
       "      <td>2016-02-29</td>\n",
       "      <td>휴일전날</td>\n",
       "      <td>0.0</td>\n",
       "      <td>0.0</td>\n",
       "    </tr>\n",
       "    <tr>\n",
       "      <th>18</th>\n",
       "      <td>2016-03-02</td>\n",
       "      <td>평일</td>\n",
       "      <td>0.0</td>\n",
       "      <td>0.0</td>\n",
       "    </tr>\n",
       "    <tr>\n",
       "      <th>19</th>\n",
       "      <td>2016-03-03</td>\n",
       "      <td>평일</td>\n",
       "      <td>0.0</td>\n",
       "      <td>0.0</td>\n",
       "    </tr>\n",
       "    <tr>\n",
       "      <th>20</th>\n",
       "      <td>2016-03-04</td>\n",
       "      <td>휴일전날</td>\n",
       "      <td>0.0</td>\n",
       "      <td>20.3</td>\n",
       "    </tr>\n",
       "    <tr>\n",
       "      <th>21</th>\n",
       "      <td>2016-03-07</td>\n",
       "      <td>평일</td>\n",
       "      <td>0.0</td>\n",
       "      <td>0.0</td>\n",
       "    </tr>\n",
       "    <tr>\n",
       "      <th>22</th>\n",
       "      <td>2016-03-08</td>\n",
       "      <td>평일</td>\n",
       "      <td>0.0</td>\n",
       "      <td>0.0</td>\n",
       "    </tr>\n",
       "    <tr>\n",
       "      <th>23</th>\n",
       "      <td>2016-03-09</td>\n",
       "      <td>평일</td>\n",
       "      <td>0.0</td>\n",
       "      <td>0.0</td>\n",
       "    </tr>\n",
       "    <tr>\n",
       "      <th>24</th>\n",
       "      <td>2016-03-10</td>\n",
       "      <td>평일</td>\n",
       "      <td>0.0</td>\n",
       "      <td>0.0</td>\n",
       "    </tr>\n",
       "    <tr>\n",
       "      <th>25</th>\n",
       "      <td>2016-03-11</td>\n",
       "      <td>휴일전날</td>\n",
       "      <td>0.0</td>\n",
       "      <td>0.0</td>\n",
       "    </tr>\n",
       "    <tr>\n",
       "      <th>26</th>\n",
       "      <td>2016-03-14</td>\n",
       "      <td>평일</td>\n",
       "      <td>0.0</td>\n",
       "      <td>0.0</td>\n",
       "    </tr>\n",
       "    <tr>\n",
       "      <th>27</th>\n",
       "      <td>2016-03-15</td>\n",
       "      <td>평일</td>\n",
       "      <td>0.0</td>\n",
       "      <td>0.0</td>\n",
       "    </tr>\n",
       "    <tr>\n",
       "      <th>28</th>\n",
       "      <td>2016-03-16</td>\n",
       "      <td>평일</td>\n",
       "      <td>0.0</td>\n",
       "      <td>0.0</td>\n",
       "    </tr>\n",
       "    <tr>\n",
       "      <th>29</th>\n",
       "      <td>2016-03-17</td>\n",
       "      <td>평일</td>\n",
       "      <td>0.0</td>\n",
       "      <td>0.0</td>\n",
       "    </tr>\n",
       "    <tr>\n",
       "      <th>...</th>\n",
       "      <td>...</td>\n",
       "      <td>...</td>\n",
       "      <td>...</td>\n",
       "      <td>...</td>\n",
       "    </tr>\n",
       "    <tr>\n",
       "      <th>1225</th>\n",
       "      <td>2021-02-26</td>\n",
       "      <td>휴일전날</td>\n",
       "      <td>0.0</td>\n",
       "      <td>0.0</td>\n",
       "    </tr>\n",
       "    <tr>\n",
       "      <th>1226</th>\n",
       "      <td>2021-03-02</td>\n",
       "      <td>평일</td>\n",
       "      <td>0.0</td>\n",
       "      <td>0.0</td>\n",
       "    </tr>\n",
       "    <tr>\n",
       "      <th>1227</th>\n",
       "      <td>2021-03-03</td>\n",
       "      <td>평일</td>\n",
       "      <td>0.0</td>\n",
       "      <td>0.0</td>\n",
       "    </tr>\n",
       "    <tr>\n",
       "      <th>1228</th>\n",
       "      <td>2021-03-04</td>\n",
       "      <td>평일</td>\n",
       "      <td>0.0</td>\n",
       "      <td>0.0</td>\n",
       "    </tr>\n",
       "    <tr>\n",
       "      <th>1229</th>\n",
       "      <td>2021-03-05</td>\n",
       "      <td>휴일전날</td>\n",
       "      <td>0.0</td>\n",
       "      <td>0.0</td>\n",
       "    </tr>\n",
       "    <tr>\n",
       "      <th>1230</th>\n",
       "      <td>2021-03-08</td>\n",
       "      <td>평일</td>\n",
       "      <td>0.0</td>\n",
       "      <td>0.0</td>\n",
       "    </tr>\n",
       "    <tr>\n",
       "      <th>1231</th>\n",
       "      <td>2021-03-09</td>\n",
       "      <td>평일</td>\n",
       "      <td>0.0</td>\n",
       "      <td>0.0</td>\n",
       "    </tr>\n",
       "    <tr>\n",
       "      <th>1232</th>\n",
       "      <td>2021-03-10</td>\n",
       "      <td>평일</td>\n",
       "      <td>0.0</td>\n",
       "      <td>0.0</td>\n",
       "    </tr>\n",
       "    <tr>\n",
       "      <th>1233</th>\n",
       "      <td>2021-03-11</td>\n",
       "      <td>평일</td>\n",
       "      <td>0.0</td>\n",
       "      <td>0.0</td>\n",
       "    </tr>\n",
       "    <tr>\n",
       "      <th>1234</th>\n",
       "      <td>2021-03-12</td>\n",
       "      <td>휴일전날</td>\n",
       "      <td>0.0</td>\n",
       "      <td>0.0</td>\n",
       "    </tr>\n",
       "    <tr>\n",
       "      <th>1235</th>\n",
       "      <td>2021-03-15</td>\n",
       "      <td>평일</td>\n",
       "      <td>0.0</td>\n",
       "      <td>0.0</td>\n",
       "    </tr>\n",
       "    <tr>\n",
       "      <th>1236</th>\n",
       "      <td>2021-03-16</td>\n",
       "      <td>평일</td>\n",
       "      <td>0.0</td>\n",
       "      <td>0.0</td>\n",
       "    </tr>\n",
       "    <tr>\n",
       "      <th>1237</th>\n",
       "      <td>2021-03-17</td>\n",
       "      <td>평일</td>\n",
       "      <td>0.0</td>\n",
       "      <td>0.0</td>\n",
       "    </tr>\n",
       "    <tr>\n",
       "      <th>1238</th>\n",
       "      <td>2021-03-18</td>\n",
       "      <td>평일</td>\n",
       "      <td>0.0</td>\n",
       "      <td>0.0</td>\n",
       "    </tr>\n",
       "    <tr>\n",
       "      <th>1239</th>\n",
       "      <td>2021-03-19</td>\n",
       "      <td>휴일전날</td>\n",
       "      <td>0.0</td>\n",
       "      <td>0.0</td>\n",
       "    </tr>\n",
       "    <tr>\n",
       "      <th>1240</th>\n",
       "      <td>2021-03-22</td>\n",
       "      <td>평일</td>\n",
       "      <td>0.0</td>\n",
       "      <td>0.0</td>\n",
       "    </tr>\n",
       "    <tr>\n",
       "      <th>1241</th>\n",
       "      <td>2021-03-23</td>\n",
       "      <td>평일</td>\n",
       "      <td>0.0</td>\n",
       "      <td>0.0</td>\n",
       "    </tr>\n",
       "    <tr>\n",
       "      <th>1242</th>\n",
       "      <td>2021-03-24</td>\n",
       "      <td>평일</td>\n",
       "      <td>0.0</td>\n",
       "      <td>0.0</td>\n",
       "    </tr>\n",
       "    <tr>\n",
       "      <th>1243</th>\n",
       "      <td>2021-03-25</td>\n",
       "      <td>평일</td>\n",
       "      <td>0.0</td>\n",
       "      <td>0.0</td>\n",
       "    </tr>\n",
       "    <tr>\n",
       "      <th>1244</th>\n",
       "      <td>2021-03-26</td>\n",
       "      <td>휴일전날</td>\n",
       "      <td>0.0</td>\n",
       "      <td>0.0</td>\n",
       "    </tr>\n",
       "    <tr>\n",
       "      <th>1245</th>\n",
       "      <td>2021-03-29</td>\n",
       "      <td>평일</td>\n",
       "      <td>0.0</td>\n",
       "      <td>0.0</td>\n",
       "    </tr>\n",
       "    <tr>\n",
       "      <th>1246</th>\n",
       "      <td>2021-03-30</td>\n",
       "      <td>평일</td>\n",
       "      <td>0.0</td>\n",
       "      <td>0.0</td>\n",
       "    </tr>\n",
       "    <tr>\n",
       "      <th>1247</th>\n",
       "      <td>2021-03-31</td>\n",
       "      <td>평일</td>\n",
       "      <td>0.0</td>\n",
       "      <td>0.0</td>\n",
       "    </tr>\n",
       "    <tr>\n",
       "      <th>1248</th>\n",
       "      <td>2021-04-01</td>\n",
       "      <td>평일</td>\n",
       "      <td>0.0</td>\n",
       "      <td>0.0</td>\n",
       "    </tr>\n",
       "    <tr>\n",
       "      <th>1249</th>\n",
       "      <td>2021-04-02</td>\n",
       "      <td>휴일전날</td>\n",
       "      <td>0.0</td>\n",
       "      <td>0.0</td>\n",
       "    </tr>\n",
       "    <tr>\n",
       "      <th>1250</th>\n",
       "      <td>2021-04-05</td>\n",
       "      <td>평일</td>\n",
       "      <td>0.0</td>\n",
       "      <td>0.0</td>\n",
       "    </tr>\n",
       "    <tr>\n",
       "      <th>1251</th>\n",
       "      <td>2021-04-06</td>\n",
       "      <td>평일</td>\n",
       "      <td>0.0</td>\n",
       "      <td>0.0</td>\n",
       "    </tr>\n",
       "    <tr>\n",
       "      <th>1252</th>\n",
       "      <td>2021-04-07</td>\n",
       "      <td>평일</td>\n",
       "      <td>0.0</td>\n",
       "      <td>0.0</td>\n",
       "    </tr>\n",
       "    <tr>\n",
       "      <th>1253</th>\n",
       "      <td>2021-04-08</td>\n",
       "      <td>평일</td>\n",
       "      <td>0.0</td>\n",
       "      <td>0.0</td>\n",
       "    </tr>\n",
       "    <tr>\n",
       "      <th>1254</th>\n",
       "      <td>2021-04-09</td>\n",
       "      <td>휴일전날</td>\n",
       "      <td>0.0</td>\n",
       "      <td>0.0</td>\n",
       "    </tr>\n",
       "  </tbody>\n",
       "</table>\n",
       "<p>1255 rows × 4 columns</p>\n",
       "</div>"
      ],
      "text/plain": [
       "              일자  휴일전날  점심비   저녁비\n",
       "0     2016-02-01    평일  0.0   0.0\n",
       "1     2016-02-02    평일  0.0   0.0\n",
       "2     2016-02-03    평일  0.0   0.0\n",
       "3     2016-02-04    평일  0.0   0.0\n",
       "4     2016-02-05  휴일전날  0.0   0.0\n",
       "5     2016-02-11    평일  0.0   0.0\n",
       "6     2016-02-12  휴일전날  9.4  20.4\n",
       "7     2016-02-15    평일  0.0   0.0\n",
       "8     2016-02-16    평일  0.0   0.0\n",
       "9     2016-02-17    평일  0.0   0.0\n",
       "10    2016-02-18    평일  0.0   0.0\n",
       "11    2016-02-19  휴일전날  0.0   0.0\n",
       "12    2016-02-22    평일  0.0   0.0\n",
       "13    2016-02-23    평일  0.0   0.0\n",
       "14    2016-02-24    평일  0.0   0.0\n",
       "15    2016-02-25    평일  0.0   0.0\n",
       "16    2016-02-26  휴일전날  0.0   0.0\n",
       "17    2016-02-29  휴일전날  0.0   0.0\n",
       "18    2016-03-02    평일  0.0   0.0\n",
       "19    2016-03-03    평일  0.0   0.0\n",
       "20    2016-03-04  휴일전날  0.0  20.3\n",
       "21    2016-03-07    평일  0.0   0.0\n",
       "22    2016-03-08    평일  0.0   0.0\n",
       "23    2016-03-09    평일  0.0   0.0\n",
       "24    2016-03-10    평일  0.0   0.0\n",
       "25    2016-03-11  휴일전날  0.0   0.0\n",
       "26    2016-03-14    평일  0.0   0.0\n",
       "27    2016-03-15    평일  0.0   0.0\n",
       "28    2016-03-16    평일  0.0   0.0\n",
       "29    2016-03-17    평일  0.0   0.0\n",
       "...          ...   ...  ...   ...\n",
       "1225  2021-02-26  휴일전날  0.0   0.0\n",
       "1226  2021-03-02    평일  0.0   0.0\n",
       "1227  2021-03-03    평일  0.0   0.0\n",
       "1228  2021-03-04    평일  0.0   0.0\n",
       "1229  2021-03-05  휴일전날  0.0   0.0\n",
       "1230  2021-03-08    평일  0.0   0.0\n",
       "1231  2021-03-09    평일  0.0   0.0\n",
       "1232  2021-03-10    평일  0.0   0.0\n",
       "1233  2021-03-11    평일  0.0   0.0\n",
       "1234  2021-03-12  휴일전날  0.0   0.0\n",
       "1235  2021-03-15    평일  0.0   0.0\n",
       "1236  2021-03-16    평일  0.0   0.0\n",
       "1237  2021-03-17    평일  0.0   0.0\n",
       "1238  2021-03-18    평일  0.0   0.0\n",
       "1239  2021-03-19  휴일전날  0.0   0.0\n",
       "1240  2021-03-22    평일  0.0   0.0\n",
       "1241  2021-03-23    평일  0.0   0.0\n",
       "1242  2021-03-24    평일  0.0   0.0\n",
       "1243  2021-03-25    평일  0.0   0.0\n",
       "1244  2021-03-26  휴일전날  0.0   0.0\n",
       "1245  2021-03-29    평일  0.0   0.0\n",
       "1246  2021-03-30    평일  0.0   0.0\n",
       "1247  2021-03-31    평일  0.0   0.0\n",
       "1248  2021-04-01    평일  0.0   0.0\n",
       "1249  2021-04-02  휴일전날  0.0   0.0\n",
       "1250  2021-04-05    평일  0.0   0.0\n",
       "1251  2021-04-06    평일  0.0   0.0\n",
       "1252  2021-04-07    평일  0.0   0.0\n",
       "1253  2021-04-08    평일  0.0   0.0\n",
       "1254  2021-04-09  휴일전날  0.0   0.0\n",
       "\n",
       "[1255 rows x 4 columns]"
      ]
     },
     "execution_count": 5,
     "metadata": {},
     "output_type": "execute_result"
    }
   ],
   "source": [
    "df_v2=df[['일자','휴일전날','점심비','저녁비']]\n",
    "df_v2"
   ]
  },
  {
   "cell_type": "code",
   "execution_count": 6,
   "metadata": {},
   "outputs": [],
   "source": [
    "def holiday(x):\n",
    "    if x=='평일':\n",
    "        return 0\n",
    "    else:\n",
    "        return 1"
   ]
  },
  {
   "cell_type": "code",
   "execution_count": 7,
   "metadata": {},
   "outputs": [
    {
     "name": "stderr",
     "output_type": "stream",
     "text": [
      "C:\\Users\\JinSoo\\Anaconda3\\lib\\site-packages\\ipykernel_launcher.py:1: SettingWithCopyWarning: \n",
      "A value is trying to be set on a copy of a slice from a DataFrame.\n",
      "Try using .loc[row_indexer,col_indexer] = value instead\n",
      "\n",
      "See the caveats in the documentation: http://pandas.pydata.org/pandas-docs/stable/indexing.html#indexing-view-versus-copy\n",
      "  \"\"\"Entry point for launching an IPython kernel.\n"
     ]
    }
   ],
   "source": [
    "df_v2['휴일전날']=df_v2['휴일전날'].apply(lambda x: holiday(x))"
   ]
  },
  {
   "cell_type": "code",
   "execution_count": 8,
   "metadata": {},
   "outputs": [],
   "source": [
    "train_df=df_v2[:1205]\n",
    "test_df=df_v2[1205:]"
   ]
  },
  {
   "cell_type": "code",
   "execution_count": 9,
   "metadata": {},
   "outputs": [],
   "source": [
    "train=pd.merge(train,train_df,how='left',on='일자')\n",
    "test=pd.merge(test,test_df,how='left',on='일자')"
   ]
  },
  {
   "cell_type": "code",
   "execution_count": 10,
   "metadata": {},
   "outputs": [],
   "source": [
    "train.drop(['일자','요일','조식메뉴','중식메뉴','석식메뉴'],axis=1,inplace=True)\n",
    "test.drop(['일자','요일','조식메뉴','중식메뉴','석식메뉴'],axis=1,inplace=True)"
   ]
  },
  {
   "cell_type": "code",
   "execution_count": 11,
   "metadata": {},
   "outputs": [],
   "source": [
    "train.drop(['최저기온'],axis=1,inplace=True)\n",
    "test.drop(['최저기온'],axis=1,inplace=True)"
   ]
  },
  {
   "cell_type": "code",
   "execution_count": 12,
   "metadata": {},
   "outputs": [],
   "source": [
    "train.drop(['지점'],axis=1,inplace=True)\n",
    "test.drop(['지점'],axis=1,inplace=True)"
   ]
  },
  {
   "cell_type": "code",
   "execution_count": 13,
   "metadata": {},
   "outputs": [],
   "source": [
    "train_lunch=train.drop(['평균기온','최저습도','중식계','석식계'],axis=1)\n",
    "train_dinner=train.drop(['최고기온','최저습도','중식계','석식계'],axis=1)"
   ]
  },
  {
   "cell_type": "code",
   "execution_count": 14,
   "metadata": {},
   "outputs": [],
   "source": [
    "y1_train = train['중식계']\n",
    "y2_train = train['석식계']"
   ]
  },
  {
   "cell_type": "code",
   "execution_count": 15,
   "metadata": {},
   "outputs": [],
   "source": [
    "from sklearn.metrics import mean_absolute_error"
   ]
  },
  {
   "cell_type": "code",
   "execution_count": 16,
   "metadata": {},
   "outputs": [],
   "source": [
    "from sklearn.model_selection import train_test_split"
   ]
  },
  {
   "cell_type": "code",
   "execution_count": 17,
   "metadata": {},
   "outputs": [
    {
     "name": "stdout",
     "output_type": "stream",
     "text": [
      "본사정원수  결측값 :  0\n",
      "본사휴가자수  결측값 :  0\n",
      "본사출장자수  결측값 :  0\n",
      "본사시간외근무명령서승인건수  결측값 :  0\n",
      "현본사소속재택근무자수  결측값 :  0\n",
      "최고기온  결측값 :  0\n",
      "평균습도  결측값 :  1\n",
      "사회적거리두기 1단계  결측값 :  0\n",
      "사회적거리두기 1.5단계  결측값 :  0\n",
      "사회적거리두기 2단계 이상  결측값 :  0\n",
      "전국 코로나 확진자 수  결측값 :  0\n",
      "경남 코로나 확진자 수  결측값 :  0\n",
      "진주 코로나 확진자 수  결측값 :  0\n",
      "1단계 누적일수  결측값 :  0\n",
      "1.5단계 누적일수  결측값 :  0\n",
      "2단계 누적일수  결측값 :  0\n",
      "격상 가중치  결측값 :  0\n",
      "격하 가중치  결측값 :  0\n",
      "휴일전날  결측값 :  0\n",
      "점심비  결측값 :  0\n",
      "저녁비  결측값 :  0\n"
     ]
    }
   ],
   "source": [
    "for i in range(len(train_lunch.columns)):\n",
    "    print(train_lunch.columns[i],' 결측값 : ',len(train_lunch[train_lunch[train_lunch.columns[i]].isna()==True]))"
   ]
  },
  {
   "cell_type": "code",
   "execution_count": 18,
   "metadata": {},
   "outputs": [
    {
     "name": "stdout",
     "output_type": "stream",
     "text": [
      "본사정원수  결측값 :  0\n",
      "본사휴가자수  결측값 :  0\n",
      "본사출장자수  결측값 :  0\n",
      "본사시간외근무명령서승인건수  결측값 :  0\n",
      "현본사소속재택근무자수  결측값 :  0\n",
      "평균기온  결측값 :  1\n",
      "평균습도  결측값 :  1\n",
      "사회적거리두기 1단계  결측값 :  0\n",
      "사회적거리두기 1.5단계  결측값 :  0\n",
      "사회적거리두기 2단계 이상  결측값 :  0\n",
      "전국 코로나 확진자 수  결측값 :  0\n",
      "경남 코로나 확진자 수  결측값 :  0\n",
      "진주 코로나 확진자 수  결측값 :  0\n",
      "1단계 누적일수  결측값 :  0\n",
      "1.5단계 누적일수  결측값 :  0\n",
      "2단계 누적일수  결측값 :  0\n",
      "격상 가중치  결측값 :  0\n",
      "격하 가중치  결측값 :  0\n",
      "휴일전날  결측값 :  0\n",
      "점심비  결측값 :  0\n",
      "저녁비  결측값 :  0\n"
     ]
    }
   ],
   "source": [
    "for i in range(len(train_dinner.columns)):\n",
    "    print(train_dinner.columns[i],' 결측값 : ',len(train_dinner[train_dinner[train_dinner.columns[i]].isna()==True]))"
   ]
  },
  {
   "cell_type": "code",
   "execution_count": 19,
   "metadata": {},
   "outputs": [],
   "source": [
    "train_dinner['평균습도']=train_dinner['평균습도'].fillna(train_dinner['평균습도'].mean())\n",
    "train_dinner['평균기온']=train_dinner['평균기온'].fillna(train_dinner['평균기온'].mean())\n",
    "train_lunch['평균습도']=train_lunch['평균습도'].fillna(train_lunch['평균습도'].mean())"
   ]
  },
  {
   "cell_type": "code",
   "execution_count": 20,
   "metadata": {},
   "outputs": [],
   "source": [
    "x_train_lunch, x_test_lunch, y_train_lunch, y_test_lunch = train_test_split(train_lunch,y1_train,test_size=0.3,random_state=1234)"
   ]
  },
  {
   "cell_type": "code",
   "execution_count": 21,
   "metadata": {},
   "outputs": [
    {
     "name": "stderr",
     "output_type": "stream",
     "text": [
      "C:\\Users\\JinSoo\\Anaconda3\\lib\\site-packages\\dask\\config.py:168: YAMLLoadWarning: calling yaml.load() without Loader=... is deprecated, as the default Loader is unsafe. Please read https://msg.pyyaml.org/load for full details.\n",
      "  data = yaml.load(f.read()) or {}\n",
      "C:\\Users\\JinSoo\\Anaconda3\\lib\\site-packages\\distributed\\config.py:20: YAMLLoadWarning: calling yaml.load() without Loader=... is deprecated, as the default Loader is unsafe. Please read https://msg.pyyaml.org/load for full details.\n",
      "  defaults = yaml.load(f)\n"
     ]
    }
   ],
   "source": [
    "from xgboost import XGBRegressor"
   ]
  },
  {
   "cell_type": "code",
   "execution_count": 22,
   "metadata": {},
   "outputs": [],
   "source": [
    "model1 = XGBRegressor(colsample_bytree=1, gamma= 0, learning_rate= 0.1, max_depth= 7, min_child_weight= 2, n_estimators= 50,\n",
    "                       random_state= 2, subsample= 0.5)"
   ]
  },
  {
   "cell_type": "code",
   "execution_count": 23,
   "metadata": {},
   "outputs": [
    {
     "data": {
      "text/plain": [
       "XGBRegressor(base_score=0.5, booster='gbtree', colsample_bylevel=1,\n",
       "       colsample_bynode=1, colsample_bytree=1, gamma=0, gpu_id=-1,\n",
       "       importance_type='gain', interaction_constraints='',\n",
       "       learning_rate=0.1, max_delta_step=0, max_depth=7,\n",
       "       min_child_weight=2, missing=nan, monotone_constraints='()',\n",
       "       n_estimators=50, n_jobs=0, num_parallel_tree=1,\n",
       "       objective='reg:squarederror', random_state=2, reg_alpha=0,\n",
       "       reg_lambda=1, scale_pos_weight=1, subsample=0.5,\n",
       "       tree_method='exact', validate_parameters=1, verbosity=None)"
      ]
     },
     "execution_count": 23,
     "metadata": {},
     "output_type": "execute_result"
    }
   ],
   "source": [
    "model1.fit(x_train_lunch, y_train_lunch)"
   ]
  },
  {
   "cell_type": "code",
   "execution_count": 24,
   "metadata": {},
   "outputs": [],
   "source": [
    "pred1 = model1.predict(x_test_lunch)"
   ]
  },
  {
   "cell_type": "code",
   "execution_count": 25,
   "metadata": {},
   "outputs": [
    {
     "data": {
      "text/plain": [
       "78.88377692291091"
      ]
     },
     "execution_count": 25,
     "metadata": {},
     "output_type": "execute_result"
    }
   ],
   "source": [
    "mean_absolute_error(y_test_lunch,pred1)"
   ]
  },
  {
   "cell_type": "code",
   "execution_count": 26,
   "metadata": {},
   "outputs": [],
   "source": [
    "x_train_dinner, x_test_dinner, y_train_dinner, y_test_dinner = train_test_split(train_dinner,y2_train,test_size=0.3,random_state=1234)"
   ]
  },
  {
   "cell_type": "code",
   "execution_count": 27,
   "metadata": {},
   "outputs": [],
   "source": [
    "model2 = XGBRegressor(colsample_bytree=1, gamma= 0, learning_rate= 0.1, max_depth= 7, min_child_weight= 2, n_estimators= 50,\n",
    "                       random_state= 2, subsample= 0.5)"
   ]
  },
  {
   "cell_type": "code",
   "execution_count": 28,
   "metadata": {},
   "outputs": [
    {
     "data": {
      "text/plain": [
       "XGBRegressor(base_score=0.5, booster='gbtree', colsample_bylevel=1,\n",
       "       colsample_bynode=1, colsample_bytree=1, gamma=0, gpu_id=-1,\n",
       "       importance_type='gain', interaction_constraints='',\n",
       "       learning_rate=0.1, max_delta_step=0, max_depth=7,\n",
       "       min_child_weight=2, missing=nan, monotone_constraints='()',\n",
       "       n_estimators=50, n_jobs=0, num_parallel_tree=1,\n",
       "       objective='reg:squarederror', random_state=2, reg_alpha=0,\n",
       "       reg_lambda=1, scale_pos_weight=1, subsample=0.5,\n",
       "       tree_method='exact', validate_parameters=1, verbosity=None)"
      ]
     },
     "execution_count": 28,
     "metadata": {},
     "output_type": "execute_result"
    }
   ],
   "source": [
    "model2.fit(x_train_dinner, y_train_dinner)"
   ]
  },
  {
   "cell_type": "code",
   "execution_count": 29,
   "metadata": {},
   "outputs": [],
   "source": [
    "pred2 = model2.predict(x_test_dinner)"
   ]
  },
  {
   "cell_type": "code",
   "execution_count": 30,
   "metadata": {},
   "outputs": [
    {
     "data": {
      "text/plain": [
       "63.61627268922922"
      ]
     },
     "execution_count": 30,
     "metadata": {},
     "output_type": "execute_result"
    }
   ],
   "source": [
    "mean_absolute_error(y_test_dinner,pred2)"
   ]
  },
  {
   "cell_type": "code",
   "execution_count": 31,
   "metadata": {},
   "outputs": [],
   "source": [
    "submission = pd.read_csv('datasets/sample_submission.csv')"
   ]
  },
  {
   "cell_type": "code",
   "execution_count": 33,
   "metadata": {},
   "outputs": [],
   "source": [
    "test_lunch=test.drop(['평균기온','최저습도'],axis=1)\n",
    "test_dinner=test.drop(['최고기온','최저습도'],axis=1)"
   ]
  },
  {
   "cell_type": "code",
   "execution_count": 34,
   "metadata": {},
   "outputs": [],
   "source": [
    "pred_lunch_fin = model1.predict(test_lunch)\n",
    "pred_dinner_fin = model2.predict(test_dinner)"
   ]
  },
  {
   "cell_type": "code",
   "execution_count": 35,
   "metadata": {},
   "outputs": [],
   "source": [
    "submission['중식계'] = pred_lunch_fin\n",
    "submission['석식계'] = pred_dinner_fin"
   ]
  },
  {
   "cell_type": "code",
   "execution_count": 36,
   "metadata": {},
   "outputs": [],
   "source": [
    "submission.to_csv('submission_v6.csv', index=False)"
   ]
  },
  {
   "cell_type": "code",
   "execution_count": null,
   "metadata": {},
   "outputs": [],
   "source": []
  },
  {
   "cell_type": "code",
   "execution_count": null,
   "metadata": {},
   "outputs": [],
   "source": []
  },
  {
   "cell_type": "code",
   "execution_count": null,
   "metadata": {},
   "outputs": [],
   "source": []
  }
 ],
 "metadata": {
  "kernelspec": {
   "display_name": "Python 3",
   "language": "python",
   "name": "python3"
  },
  "language_info": {
   "codemirror_mode": {
    "name": "ipython",
    "version": 3
   },
   "file_extension": ".py",
   "mimetype": "text/x-python",
   "name": "python",
   "nbconvert_exporter": "python",
   "pygments_lexer": "ipython3",
   "version": "3.7.3"
  }
 },
 "nbformat": 4,
 "nbformat_minor": 2
}
